{
 "cells": [
  {
   "cell_type": "code",
   "execution_count": 21,
   "id": "2e83b00c-657e-4b6d-bb2e-ce2d2ae18beb",
   "metadata": {},
   "outputs": [],
   "source": [
    "import pandas as pd\n",
    "\n",
    "\n",
    "from selenium import webdriver\n",
    "from selenium.webdriver.chrome.options import Options\n",
    "from selenium.webdriver.common.by import By\n",
    "from selenium.webdriver.chrome.service import Service\n",
    "\n",
    "\n",
    "custom_options = Options()\n",
    "custom_options.add_argument(\"--start-maximized\")\n",
    "path_driver = Service('chromedriver.exe')\n",
    "driver = webdriver.Chrome(service=path_driver, options=custom_options)\n",
    "link = \"https://www.flashscore.com.ua/\"\n",
    "driver.get(link)\n",
    "class_name = 'event__match.event__match--twoLine'\n",
    "driver_m = driver.find_elements(By.CLASS_NAME, class_name)\n",
    "matches_results = []\n",
    "for element in driver_m:\n",
    "    matches_results.append(element.text.splitlines())\n",
    "columns = [\n",
    "    'status',\n",
    "    'team 1',\n",
    "    'team 2',\n",
    "    'goals 1',\n",
    "    'goals 2',\n",
    "    'first time 1',\n",
    "    'first time 2',\n",
    "    '1',\n",
    "    '2'\n",
    "]\n",
    "result = pd.DataFrame(matches_results, columns=columns)\n",
    "drop_cols = ['1', '2']\n",
    "result = result.drop(drop_cols, axis=1)\n",
    "result = result.loc[result['status'] == 'Завершен']\n",
    "result.to_excel('football_result.xlsx', index=False)\n",
    "\n",
    "driver.quit()"
   ]
  }
 ],
 "metadata": {
  "kernelspec": {
   "display_name": "Python 3 (ipykernel)",
   "language": "python",
   "name": "python3"
  },
  "language_info": {
   "codemirror_mode": {
    "name": "ipython",
    "version": 3
   },
   "file_extension": ".py",
   "mimetype": "text/x-python",
   "name": "python",
   "nbconvert_exporter": "python",
   "pygments_lexer": "ipython3",
   "version": "3.11.7"
  }
 },
 "nbformat": 4,
 "nbformat_minor": 5
}
